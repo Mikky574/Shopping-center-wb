{
 "cells": [
  {
   "cell_type": "code",
   "execution_count": 13,
   "id": "8f2e369b-19de-44d8-9278-a172635b2768",
   "metadata": {},
   "outputs": [],
   "source": [
    "import time\n",
    "import requests\n",
    "from functools import wraps\n",
    "\n",
    "# 定义一个装饰器来测量函数运行时间\n",
    "def measure_time(func):\n",
    "    @wraps(func)\n",
    "    def wrapper(*args, **kwargs):\n",
    "        start_time = time.time()\n",
    "        result = func(*args, **kwargs)\n",
    "        elapsed_time = time.time() - start_time\n",
    "        print(f\"{func.__name__} took {elapsed_time:.2f} seconds.\")\n",
    "        return result\n",
    "    return wrapper\n",
    "    "
   ]
  },
  {
   "cell_type": "code",
   "execution_count": 14,
   "id": "592f7124-1e9d-4a9a-bd9b-733fe68d46bf",
   "metadata": {},
   "outputs": [
    {
     "name": "stdout",
     "output_type": "stream",
     "text": [
      "Status Code: 400\n",
      "Response Body: {'detail': 'Username already registered'}\n",
      "test_register took 2.09 seconds.\n"
     ]
    }
   ],
   "source": [
    "import requests\n",
    "# 使用装饰器\n",
    "@measure_time\n",
    "def test_register():\n",
    "    url = \"http://localhost:8000/api/users/register\"\n",
    "    payload = {\n",
    "        \"username\": \"user1\",\n",
    "        \"password\": \"password123\"\n",
    "    }\n",
    "    response = requests.post(url, json=payload)\n",
    "    print(\"Status Code:\", response.status_code)\n",
    "    print(\"Response Body:\", response.json())\n",
    "\n",
    "test_register()"
   ]
  },
  {
   "cell_type": "code",
   "execution_count": 11,
   "id": "e23e3d09-5c60-4bdb-9ab4-c6966fb068db",
   "metadata": {},
   "outputs": [
    {
     "name": "stdout",
     "output_type": "stream",
     "text": [
      "Status Code: 200\n",
      "Response Body: {'status': 'success', 'message': 'User logged in successfully.'}\n",
      "test_login took 2.11 seconds.\n"
     ]
    }
   ],
   "source": [
    "import requests\n",
    "\n",
    "@measure_time\n",
    "def test_login():\n",
    "    url = \"http://localhost:8000/api/users/login\"\n",
    "    payload = {\n",
    "        \"username\": \"user1\",\n",
    "        \"password\": \"password123\"\n",
    "    }\n",
    "    response = requests.post(url, data=payload)\n",
    "    print(\"Status Code:\", response.status_code)\n",
    "    print(\"Response Body:\", response.json())\n",
    "\n",
    "test_login()"
   ]
  },
  {
   "cell_type": "code",
   "execution_count": null,
   "id": "54c53ad3-cdc5-4498-80e3-2eb6a2d8fed6",
   "metadata": {},
   "outputs": [],
   "source": []
  },
  {
   "cell_type": "code",
   "execution_count": null,
   "id": "5367c531-5788-4004-be5e-4e45c130d603",
   "metadata": {},
   "outputs": [],
   "source": []
  },
  {
   "cell_type": "code",
   "execution_count": 26,
   "id": "32ccfa79-879f-42b9-a2f5-5a97a62bef1b",
   "metadata": {},
   "outputs": [
    {
     "name": "stdout",
     "output_type": "stream",
     "text": [
      "User ID: 1, Username: user1, Hashed Password: $argon2id$v=19$m=65536,t=3,p=4$G0NIqbUWIsQ4x3gvhbD2fg$uJzqM15invhGnE2czvRK653dZjhOvtrl8R+xUihiVSw\n"
     ]
    },
    {
     "name": "stderr",
     "output_type": "stream",
     "text": [
      "C:\\Users\\Mikky\\AppData\\Local\\Temp\\ipykernel_12500\\4267167619.py:5: MovedIn20Warning: The ``declarative_base()`` function is now available as sqlalchemy.orm.declarative_base(). (deprecated since: 2.0) (Background on SQLAlchemy 2.0 at: https://sqlalche.me/e/b8d9)\n",
      "  Base = declarative_base()\n"
     ]
    }
   ],
   "source": [
    "from sqlalchemy import Column, Integer, String, create_engine\n",
    "from sqlalchemy.ext.declarative import declarative_base\n",
    "from sqlalchemy.orm import sessionmaker\n",
    "\n",
    "Base = declarative_base()\n",
    "\n",
    "class User(Base):\n",
    "    __tablename__ = \"users\"\n",
    "    id = Column(Integer, primary_key=True, index=True)\n",
    "    username = Column(String, unique=True, index=True)\n",
    "    hashed_password = Column(String)\n",
    "\n",
    "\n",
    "\n",
    "# 数据库连接设置\n",
    "SQLALCHEMY_DATABASE_URL = \"sqlite:///./test.db\"\n",
    "engine = create_engine(\n",
    "    SQLALCHEMY_DATABASE_URL, connect_args={\"check_same_thread\": False}\n",
    ")\n",
    "SessionLocal = sessionmaker(autocommit=False, autoflush=False, bind=engine)\n",
    "\n",
    "def get_all_users():\n",
    "    db = SessionLocal()\n",
    "    try:\n",
    "        # 查询所有用户记录\n",
    "        users = db.query(User).all()\n",
    "        for user in users:\n",
    "            print(f\"User ID: {user.id}, Username: {user.username}, Hashed Password: {user.hashed_password}\")\n",
    "    except Exception as e:\n",
    "        print(f\"Error occurred: {e}\")\n",
    "    finally:\n",
    "        db.close()\n",
    "\n",
    "if __name__ == \"__main__\":\n",
    "    get_all_users()\n"
   ]
  },
  {
   "cell_type": "code",
   "execution_count": null,
   "id": "f1a50eeb-10db-4e01-b1d9-52df010b3d09",
   "metadata": {},
   "outputs": [],
   "source": []
  },
  {
   "cell_type": "code",
   "execution_count": null,
   "id": "25df911f-5876-452b-9919-604a7fc352e2",
   "metadata": {},
   "outputs": [],
   "source": []
  },
  {
   "cell_type": "code",
   "execution_count": null,
   "id": "3c1fd01f-9638-4726-9979-32d4a119d1be",
   "metadata": {},
   "outputs": [],
   "source": []
  },
  {
   "cell_type": "code",
   "execution_count": null,
   "id": "f89628d6-8078-4b8b-988b-facf5740517a",
   "metadata": {},
   "outputs": [],
   "source": [
    "from sqlalchemy import create_engine\n",
    "from sqlalchemy.orm import sessionmaker\n",
    "from your_model_file import Base, User  # 确保从你的模型文件导入Base和User\n",
    "\n",
    "# 数据库配置\n",
    "SQLALCHEMY_DATABASE_URL = \"sqlite:///./test.db\"\n",
    "engine = create_engine(\n",
    "    SQLALCHEMY_DATABASE_URL, connect_args={\"check_same_thread\": False}\n",
    ")\n",
    "SessionLocal = sessionmaker(bind=engine)\n",
    "\n",
    "# 清空User表\n",
    "def clear_user_table():\n",
    "    # 创建会话\n",
    "    db = SessionLocal()\n",
    "    try:\n",
    "        # 删除User表中的所有记录\n",
    "        db.query(User).delete()\n",
    "        # 提交更改\n",
    "        db.commit()\n",
    "        print(\"User table cleared.\")\n",
    "    except Exception as e:\n",
    "        # 如果发生错误，则回滚\n",
    "        db.rollback()\n",
    "        print(f\"Error occurred: {e}\")\n",
    "    finally:\n",
    "        # 关闭会话\n",
    "        db.close()\n",
    "\n",
    "if __name__ == \"__main__\":\n",
    "    clear_user_table()\n"
   ]
  }
 ],
 "metadata": {
  "kernelspec": {
   "display_name": "Python 3 (ipykernel)",
   "language": "python",
   "name": "python3"
  },
  "language_info": {
   "codemirror_mode": {
    "name": "ipython",
    "version": 3
   },
   "file_extension": ".py",
   "mimetype": "text/x-python",
   "name": "python",
   "nbconvert_exporter": "python",
   "pygments_lexer": "ipython3",
   "version": "3.11.5"
  }
 },
 "nbformat": 4,
 "nbformat_minor": 5
}
